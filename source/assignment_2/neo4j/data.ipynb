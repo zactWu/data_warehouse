{
  "nbformat": 4,
  "nbformat_minor": 0,
  "metadata": {
    "colab": {
      "name": "data.ipynb",
      "provenance": [],
      "collapsed_sections": []
    },
    "kernelspec": {
      "name": "python3",
      "display_name": "Python 3"
    }
  },
  "cells": [
    {
      "cell_type": "code",
      "metadata": {
        "id": "UGdhC73HahMe"
      },
      "source": [
        "import pickle"
      ],
      "execution_count": 1,
      "outputs": []
    },
    {
      "cell_type": "code",
      "metadata": {
        "id": "5mOXY4S5bosX"
      },
      "source": [
        "f=open('drive/My Drive/Colab Notebooks/data/neo4j/component_mapping.pickle','rb') # modify path to your file \n",
        "bb=pickle.load(f)"
      ],
      "execution_count": 2,
      "outputs": []
    },
    {
      "cell_type": "code",
      "metadata": {
        "id": "hcNq6wxWrnoC"
      },
      "source": [
        "import csv"
      ],
      "execution_count": 3,
      "outputs": []
    },
    {
      "cell_type": "code",
      "metadata": {
        "id": "xuEyayuqi6sd"
      },
      "source": [
        "source=open('drive/My Drive/Colab Notebooks/data/neo4j/US.txt','r')\n",
        "csvFile=open('drive/My Drive/Colab Notebooks/data/neo4j/result.csv','w',newline='')\n",
        "writer = csv.writer(csvFile)"
      ],
      "execution_count": 6,
      "outputs": []
    },
    {
      "cell_type": "code",
      "metadata": {
        "id": "UfpiEAaNyuxI",
        "outputId": "7cc33d04-43cf-4c36-c57f-5e20ff0fcb24",
        "colab": {
          "base_uri": "https://localhost:8080/"
        }
      },
      "source": [
        "source.seek(0)"
      ],
      "execution_count": 11,
      "outputs": [
        {
          "output_type": "execute_result",
          "data": {
            "text/plain": [
              "0"
            ]
          },
          "metadata": {
            "tags": []
          },
          "execution_count": 11
        }
      ]
    },
    {
      "cell_type": "code",
      "metadata": {
        "id": "2qc1ZVywneVo",
        "outputId": "20a68497-22eb-4dc3-8cae-750f6479196c",
        "colab": {
          "base_uri": "https://localhost:8080/"
        }
      },
      "source": [
        "i = 0\n",
        "title = ['productId','userId']\n",
        "writer.writerow(title)\n",
        "\n",
        "line = source.readline()\n",
        "while line: \n",
        "    i += 1\n",
        "    productId = line.replace('\\n','')\n",
        "    movieSet = bb.get(productId) # find parent productId\n",
        "    if movieSet is None:\n",
        "      print(\"can't find \" + line) # continue to next [productId, userId]\n",
        "      line = source.readline()\n",
        "      line = source.readline()\n",
        "      continue\n",
        "    movieSet = (list)(movieSet) \n",
        "    line = source.readline()        \n",
        "    userId = line.replace('\\n','')\n",
        "    line = source.readline()\n",
        "    row = [movieSet[0], userId] # insert parent productId into row\n",
        "    if(i % 500 == 0):\n",
        "      print(\"i:\" + str(i) + \" content: \"+ str(row)) # print per 500 loop\n",
        "    writer.writerow(row)\n",
        "\n"
      ],
      "execution_count": 12,
      "outputs": [
        {
          "output_type": "stream",
          "text": [
            "i:500 content: ['B005DBLDB6', 'A1LS8REVM1FGCX']\n"
          ],
          "name": "stdout"
        }
      ]
    },
    {
      "cell_type": "code",
      "metadata": {
        "id": "xmC3d6wZrpEa"
      },
      "source": [
        "source.close()\n",
        "csvFile.close()\n",
        "f.close()"
      ],
      "execution_count": 13,
      "outputs": []
    }
  ]
}